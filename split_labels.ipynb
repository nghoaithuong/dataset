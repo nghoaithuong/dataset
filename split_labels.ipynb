{
  "nbformat": 4,
  "nbformat_minor": 0,
  "metadata": {
    "kernelspec": {
      "display_name": "Python 3",
      "language": "python",
      "name": "python3"
    },
    "language_info": {
      "codemirror_mode": {
        "name": "ipython",
        "version": 3
      },
      "file_extension": ".py",
      "mimetype": "text/x-python",
      "name": "python",
      "nbconvert_exporter": "python",
      "pygments_lexer": "ipython3",
      "version": "3.5.2"
    },
    "colab": {
      "name": "split labels.ipynb",
      "provenance": [],
      "toc_visible": true
    }
  },
  "cells": [
    {
      "cell_type": "code",
      "metadata": {
        "id": "bGhgU-1qQedi",
        "colab_type": "code",
        "colab": {}
      },
      "source": [
        "import numpy as np\n",
        "import pandas as pd\n",
        "np.random.seed(1)"
      ],
      "execution_count": 0,
      "outputs": []
    },
    {
      "cell_type": "code",
      "metadata": {
        "id": "lXm06MWCQ8aM",
        "colab_type": "code",
        "colab": {
          "base_uri": "https://localhost:8080/",
          "height": 122
        },
        "outputId": "4020bea2-a198-4591-956f-d11e98b13d3a"
      },
      "source": [
        "from google.colab import drive\n",
        "drive.mount('/content/drive')"
      ],
      "execution_count": 2,
      "outputs": [
        {
          "output_type": "stream",
          "text": [
            "Go to this URL in a browser: https://accounts.google.com/o/oauth2/auth?client_id=947318989803-6bn6qk8qdgf4n4g3pfee6491hc0brc4i.apps.googleusercontent.com&redirect_uri=urn%3aietf%3awg%3aoauth%3a2.0%3aoob&response_type=code&scope=email%20https%3a%2f%2fwww.googleapis.com%2fauth%2fdocs.test%20https%3a%2f%2fwww.googleapis.com%2fauth%2fdrive%20https%3a%2f%2fwww.googleapis.com%2fauth%2fdrive.photos.readonly%20https%3a%2f%2fwww.googleapis.com%2fauth%2fpeopleapi.readonly\n",
            "\n",
            "Enter your authorization code:\n",
            "··········\n",
            "Mounted at /content/drive\n"
          ],
          "name": "stdout"
        }
      ]
    },
    {
      "cell_type": "code",
      "metadata": {
        "id": "RmEucByGQedt",
        "colab_type": "code",
        "colab": {}
      },
      "source": [
        "full_labels = pd.read_csv('/content/drive/My Drive/Colab Notebooks/dataset/apple_labels.csv')"
      ],
      "execution_count": 0,
      "outputs": []
    },
    {
      "cell_type": "code",
      "metadata": {
        "id": "DbyHCnjvQed1",
        "colab_type": "code",
        "colab": {
          "base_uri": "https://localhost:8080/",
          "height": 204
        },
        "outputId": "3b5d0959-dd43-42f3-c6d5-6b4902d726e5"
      },
      "source": [
        "full_labels.head()"
      ],
      "execution_count": 4,
      "outputs": [
        {
          "output_type": "execute_result",
          "data": {
            "text/html": [
              "<div>\n",
              "<style scoped>\n",
              "    .dataframe tbody tr th:only-of-type {\n",
              "        vertical-align: middle;\n",
              "    }\n",
              "\n",
              "    .dataframe tbody tr th {\n",
              "        vertical-align: top;\n",
              "    }\n",
              "\n",
              "    .dataframe thead th {\n",
              "        text-align: right;\n",
              "    }\n",
              "</style>\n",
              "<table border=\"1\" class=\"dataframe\">\n",
              "  <thead>\n",
              "    <tr style=\"text-align: right;\">\n",
              "      <th></th>\n",
              "      <th>filename</th>\n",
              "      <th>width</th>\n",
              "      <th>height</th>\n",
              "      <th>class</th>\n",
              "      <th>xmin</th>\n",
              "      <th>ymin</th>\n",
              "      <th>xmax</th>\n",
              "      <th>ymax</th>\n",
              "    </tr>\n",
              "  </thead>\n",
              "  <tbody>\n",
              "    <tr>\n",
              "      <th>0</th>\n",
              "      <td>apple_015.jpg</td>\n",
              "      <td>4000</td>\n",
              "      <td>3000</td>\n",
              "      <td>apple</td>\n",
              "      <td>954</td>\n",
              "      <td>559</td>\n",
              "      <td>2440</td>\n",
              "      <td>1830</td>\n",
              "    </tr>\n",
              "    <tr>\n",
              "      <th>1</th>\n",
              "      <td>apple_06.jpg</td>\n",
              "      <td>4000</td>\n",
              "      <td>3000</td>\n",
              "      <td>apple</td>\n",
              "      <td>1506</td>\n",
              "      <td>621</td>\n",
              "      <td>2778</td>\n",
              "      <td>2201</td>\n",
              "    </tr>\n",
              "    <tr>\n",
              "      <th>2</th>\n",
              "      <td>apple_114.jpg</td>\n",
              "      <td>300</td>\n",
              "      <td>450</td>\n",
              "      <td>apple</td>\n",
              "      <td>53</td>\n",
              "      <td>42</td>\n",
              "      <td>213</td>\n",
              "      <td>211</td>\n",
              "    </tr>\n",
              "    <tr>\n",
              "      <th>3</th>\n",
              "      <td>apple_114.jpg</td>\n",
              "      <td>300</td>\n",
              "      <td>450</td>\n",
              "      <td>apple</td>\n",
              "      <td>109</td>\n",
              "      <td>257</td>\n",
              "      <td>262</td>\n",
              "      <td>414</td>\n",
              "    </tr>\n",
              "    <tr>\n",
              "      <th>4</th>\n",
              "      <td>apple_01.jpg</td>\n",
              "      <td>1941</td>\n",
              "      <td>2595</td>\n",
              "      <td>apple</td>\n",
              "      <td>196</td>\n",
              "      <td>587</td>\n",
              "      <td>1792</td>\n",
              "      <td>2015</td>\n",
              "    </tr>\n",
              "  </tbody>\n",
              "</table>\n",
              "</div>"
            ],
            "text/plain": [
              "        filename  width  height  class  xmin  ymin  xmax  ymax\n",
              "0  apple_015.jpg   4000    3000  apple   954   559  2440  1830\n",
              "1   apple_06.jpg   4000    3000  apple  1506   621  2778  2201\n",
              "2  apple_114.jpg    300     450  apple    53    42   213   211\n",
              "3  apple_114.jpg    300     450  apple   109   257   262   414\n",
              "4   apple_01.jpg   1941    2595  apple   196   587  1792  2015"
            ]
          },
          "metadata": {
            "tags": []
          },
          "execution_count": 4
        }
      ]
    },
    {
      "cell_type": "code",
      "metadata": {
        "id": "9tGuWJh4QeeA",
        "colab_type": "code",
        "colab": {}
      },
      "source": [
        "grouped = full_labels.groupby('filename')"
      ],
      "execution_count": 0,
      "outputs": []
    },
    {
      "cell_type": "code",
      "metadata": {
        "id": "PEQmBMuoQeeH",
        "colab_type": "code",
        "colab": {
          "base_uri": "https://localhost:8080/",
          "height": 102
        },
        "outputId": "06089aea-846d-448e-da90-f12c00587fff"
      },
      "source": [
        "grouped.apply(lambda x: len(x)).value_counts()"
      ],
      "execution_count": 6,
      "outputs": [
        {
          "output_type": "execute_result",
          "data": {
            "text/plain": [
              "1    70\n",
              "2    12\n",
              "3     9\n",
              "4     1\n",
              "dtype: int64"
            ]
          },
          "metadata": {
            "tags": []
          },
          "execution_count": 6
        }
      ]
    },
    {
      "cell_type": "markdown",
      "metadata": {
        "id": "htOvx4ncQeeR",
        "colab_type": "text"
      },
      "source": [
        "### split each file into a group in a list"
      ]
    },
    {
      "cell_type": "code",
      "metadata": {
        "id": "vb0urCa8QeeT",
        "colab_type": "code",
        "colab": {}
      },
      "source": [
        "gb = full_labels.groupby('filename')"
      ],
      "execution_count": 0,
      "outputs": []
    },
    {
      "cell_type": "code",
      "metadata": {
        "id": "1k5T-1LiQeea",
        "colab_type": "code",
        "colab": {}
      },
      "source": [
        "grouped_list = [gb.get_group(x) for x in gb.groups]"
      ],
      "execution_count": 0,
      "outputs": []
    },
    {
      "cell_type": "code",
      "metadata": {
        "id": "CtTYSYFMQeeh",
        "colab_type": "code",
        "colab": {
          "base_uri": "https://localhost:8080/",
          "height": 34
        },
        "outputId": "16a202d1-da6b-42b1-b899-1a8e7e80398e"
      },
      "source": [
        "len(grouped_list)"
      ],
      "execution_count": 9,
      "outputs": [
        {
          "output_type": "execute_result",
          "data": {
            "text/plain": [
              "92"
            ]
          },
          "metadata": {
            "tags": []
          },
          "execution_count": 9
        }
      ]
    },
    {
      "cell_type": "code",
      "metadata": {
        "id": "GTeJ4NUYQeen",
        "colab_type": "code",
        "colab": {}
      },
      "source": [
        "train_index = np.random.choice(len(grouped_list), size=80, replace=False)\n",
        "test_index = np.setdiff1d(list(range(92)), train_index)"
      ],
      "execution_count": 0,
      "outputs": []
    },
    {
      "cell_type": "code",
      "metadata": {
        "id": "31rmQarGQeer",
        "colab_type": "code",
        "colab": {
          "base_uri": "https://localhost:8080/",
          "height": 34
        },
        "outputId": "646269a0-ad1c-4d31-f8a7-9a836d2e1ba5"
      },
      "source": [
        "len(train_index), len(test_index)"
      ],
      "execution_count": 11,
      "outputs": [
        {
          "output_type": "execute_result",
          "data": {
            "text/plain": [
              "(80, 12)"
            ]
          },
          "metadata": {
            "tags": []
          },
          "execution_count": 11
        }
      ]
    },
    {
      "cell_type": "code",
      "metadata": {
        "id": "ZWisZvPfQeey",
        "colab_type": "code",
        "colab": {}
      },
      "source": [
        "# take first 92 files\n",
        "train = pd.concat([grouped_list[i] for i in train_index])\n",
        "test = pd.concat([grouped_list[i] for i in test_index])"
      ],
      "execution_count": 0,
      "outputs": []
    },
    {
      "cell_type": "code",
      "metadata": {
        "id": "tfJycjrzQee5",
        "colab_type": "code",
        "colab": {
          "base_uri": "https://localhost:8080/",
          "height": 34
        },
        "outputId": "59691a6c-5880-4e22-848e-6c3475bfc530"
      },
      "source": [
        "len(train), len(test)"
      ],
      "execution_count": 15,
      "outputs": [
        {
          "output_type": "execute_result",
          "data": {
            "text/plain": [
              "(110, 15)"
            ]
          },
          "metadata": {
            "tags": []
          },
          "execution_count": 15
        }
      ]
    },
    {
      "cell_type": "code",
      "metadata": {
        "id": "JeNH3tc5Qee-",
        "colab_type": "code",
        "colab": {}
      },
      "source": [
        "train.to_csv('train_labels.csv', index=None)\n",
        "test.to_csv('test_labels.csv', index=None)"
      ],
      "execution_count": 0,
      "outputs": []
    },
    {
      "cell_type": "code",
      "metadata": {
        "id": "-rPmP_hEQefB",
        "colab_type": "code",
        "colab": {}
      },
      "source": [
        ""
      ],
      "execution_count": 0,
      "outputs": []
    }
  ]
}